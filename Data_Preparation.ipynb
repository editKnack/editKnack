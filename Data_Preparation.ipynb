{
  "nbformat": 4,
  "nbformat_minor": 0,
  "metadata": {
    "colab": {
      "provenance": [],
      "collapsed_sections": [
        "2p5oOB8dSl8i",
        "mca1yUnZGoIO",
        "UZwsNLmXPLtB",
        "H-F9B7SHafYn",
        "76NlReO0mFv4",
        "f5rlojwboBrq"
      ],
      "toc_visible": true,
      "authorship_tag": "ABX9TyOFimm4+gftBQMrBQ/dGkXK"
    },
    "kernelspec": {
      "name": "python3",
      "display_name": "Python 3"
    },
    "language_info": {
      "name": "python"
    }
  },
  "cells": [
    {
      "cell_type": "markdown",
      "source": [
        "## Libraries"
      ],
      "metadata": {
        "id": "2p5oOB8dSl8i"
      }
    },
    {
      "cell_type": "code",
      "execution_count": null,
      "metadata": {
        "id": "krz4LingEgch"
      },
      "outputs": [],
      "source": [
        "import pandas as pd\n",
        "import numpy as np\n",
        "import matplotlib.pyplot as plt\n",
        "import seaborn as sns\n",
        "\n",
        "from sklearn.preprocessing import StandardScaler, OneHotEncoder, OrdinalEncoder, MinMaxScaler, LabelEncoder\n",
        "\n",
        "from statsmodels.stats.outliers_influence import variance_inflation_factor\n",
        "\n",
        "import statsmodels.api as sm\n",
        "from imblearn.over_sampling import SMOTE\n",
        "from sklearn.model_selection import train_test_split\n",
        "from sklearn.linear_model import LogisticRegression\n",
        "from sklearn.tree import DecisionTreeClassifier, plot_tree\n",
        "from sklearn.svm import SVC\n",
        "from sklearn.neural_network import MLPClassifier\n",
        "from sklearn.ensemble import RandomForestClassifier, GradientBoostingClassifier\n",
        "from sklearn.metrics import classification_report, confusion_matrix, accuracy_score, f1_score, recall_score, precision_score, mean_squared_error\n"
      ]
    },
    {
      "cell_type": "markdown",
      "source": [
        "# Pre-processing"
      ],
      "metadata": {
        "id": "mAV62NgtGuvx"
      }
    },
    {
      "cell_type": "code",
      "source": [
        "df=pd.read_csv('/content/file.csv')\n",
        "df= pd.read_excel('/content/file.xlsx')"
      ],
      "metadata": {
        "id": "MAzJZOm7E4hX"
      },
      "execution_count": null,
      "outputs": []
    },
    {
      "cell_type": "code",
      "source": [
        "df.shape"
      ],
      "metadata": {
        "id": "34LOY4jEFn2m"
      },
      "execution_count": null,
      "outputs": []
    },
    {
      "cell_type": "code",
      "source": [
        "df.head()"
      ],
      "metadata": {
        "id": "GQ6W4sE2GlNO"
      },
      "execution_count": null,
      "outputs": []
    },
    {
      "cell_type": "code",
      "source": [
        "df.isnull().any(axis = 1).sum()"
      ],
      "metadata": {
        "id": "CDc0IViuFpdI"
      },
      "execution_count": null,
      "outputs": []
    },
    {
      "cell_type": "code",
      "source": [
        "nan_columns = df.columns[df.isnull().any()].tolist()\n",
        "nan_counts = {column: df[column].isnull().sum() for column in nan_columns}\n",
        "print(nan_counts)"
      ],
      "metadata": {
        "id": "X1lL49ZdGBER"
      },
      "execution_count": null,
      "outputs": []
    },
    {
      "cell_type": "code",
      "source": [
        "df.dropna(inplace=True)"
      ],
      "metadata": {
        "id": "ZEr3SHJ2HJma"
      },
      "execution_count": null,
      "outputs": []
    },
    {
      "cell_type": "code",
      "source": [
        "df.fillna(0, inplace=True)"
      ],
      "metadata": {
        "id": "F7AcUepZLDJJ"
      },
      "execution_count": null,
      "outputs": []
    },
    {
      "cell_type": "code",
      "source": [
        "for i in df.index:\n",
        "    if pd.isna(df.loc[i, 'variable']):\n",
        "        current_mean = bikes_df['variable'].mean()\n",
        "        df.loc[i, 'variable'] = current_mean"
      ],
      "metadata": {
        "id": "Pp5jFjowKXUL"
      },
      "execution_count": null,
      "outputs": []
    },
    {
      "cell_type": "code",
      "source": [
        "df.duplicated().sum()"
      ],
      "metadata": {
        "id": "0QZgRt8XGJaG"
      },
      "execution_count": null,
      "outputs": []
    },
    {
      "cell_type": "code",
      "source": [
        "df.drop_duplicates(inplace=True)"
      ],
      "metadata": {
        "id": "-WAhysLnGV-L"
      },
      "execution_count": null,
      "outputs": []
    },
    {
      "cell_type": "code",
      "source": [
        "df.info()"
      ],
      "metadata": {
        "id": "fdiq6-idHpDr"
      },
      "execution_count": null,
      "outputs": []
    },
    {
      "cell_type": "code",
      "source": [
        "df['date'] = pd.to_datetime(df['date'])"
      ],
      "metadata": {
        "id": "0tq7jQhKJqGU"
      },
      "execution_count": null,
      "outputs": []
    },
    {
      "cell_type": "code",
      "source": [
        "df['variable'] = df['variable'].astype(int)"
      ],
      "metadata": {
        "id": "G8Dp4UeoJmyi"
      },
      "execution_count": null,
      "outputs": []
    },
    {
      "cell_type": "code",
      "source": [
        "df.to_csv('cleaned_dataset.csv', index=False)"
      ],
      "metadata": {
        "id": "8DabcrDRGXZM"
      },
      "execution_count": null,
      "outputs": []
    },
    {
      "cell_type": "code",
      "source": [
        "df_copy = df.copy(deep=True)"
      ],
      "metadata": {
        "id": "--pPlU5snik2"
      },
      "execution_count": null,
      "outputs": []
    },
    {
      "cell_type": "markdown",
      "source": [
        "# Exploration"
      ],
      "metadata": {
        "id": "mca1yUnZGoIO"
      }
    },
    {
      "cell_type": "code",
      "source": [
        "df['y'].value_counts()"
      ],
      "metadata": {
        "id": "i-UhzoFcKJr7"
      },
      "execution_count": null,
      "outputs": []
    },
    {
      "cell_type": "code",
      "source": [
        "df.describe()"
      ],
      "metadata": {
        "id": "0auGxsSvGr26"
      },
      "execution_count": null,
      "outputs": []
    },
    {
      "cell_type": "code",
      "source": [
        "df.describe(include=['O']) #for categorical"
      ],
      "metadata": {
        "id": "egalm7juNXbP"
      },
      "execution_count": null,
      "outputs": []
    },
    {
      "cell_type": "code",
      "source": [
        "df.skew()"
      ],
      "metadata": {
        "id": "Hp-70Ed1Nn9I"
      },
      "execution_count": null,
      "outputs": []
    },
    {
      "cell_type": "code",
      "source": [
        "df.kurtosis()"
      ],
      "metadata": {
        "id": "mbky6MRGNoz3"
      },
      "execution_count": null,
      "outputs": []
    },
    {
      "cell_type": "code",
      "source": [
        "sns.histplot(bank_df['y'])"
      ],
      "metadata": {
        "id": "F16O6YF1G9WJ"
      },
      "execution_count": null,
      "outputs": []
    },
    {
      "cell_type": "code",
      "source": [
        "boxplot = df.boxplot(column=['x1', 'x2'])"
      ],
      "metadata": {
        "id": "YyWIHGwHHDj5"
      },
      "execution_count": null,
      "outputs": []
    },
    {
      "cell_type": "code",
      "source": [
        "df.plot.scatter(x='x',\n",
        "                      y='y')"
      ],
      "metadata": {
        "id": "25xdWax3SYZd"
      },
      "execution_count": null,
      "outputs": []
    },
    {
      "cell_type": "code",
      "source": [
        "df.corr()['y'].abs().sort_values(ascending = False)"
      ],
      "metadata": {
        "id": "mWO7Sk_QG4ql"
      },
      "execution_count": null,
      "outputs": []
    },
    {
      "cell_type": "code",
      "source": [
        "plt.figure(figsize=(20,8))\n",
        "sns.heatmap(df.corr())"
      ],
      "metadata": {
        "id": "cZ6vG0WhP0A8"
      },
      "execution_count": null,
      "outputs": []
    },
    {
      "cell_type": "code",
      "source": [
        "correlation_matrix=df.corr(method='pearson')\n",
        "min_corr_threshold = 0.3\n",
        "filtered_correlation_matrix = correlation_matrix[\n",
        "    (correlation_matrix >= min_corr_threshold) | (correlation_matrix <= -min_corr_threshold)\n",
        "]\n",
        "correlation_matrix"
      ],
      "metadata": {
        "id": "zZqQzdGBHYvE"
      },
      "execution_count": null,
      "outputs": []
    },
    {
      "cell_type": "code",
      "source": [
        "plt.figure(figsize=(20, 8))\n",
        "sns.heatmap(filtered_correlation_matrix, annot=True, cmap='coolwarm', linewidths=.5)\n",
        "plt.title('Medium to Strong Correlation Matrix - 0.3+')\n",
        "plt.show()"
      ],
      "metadata": {
        "id": "R2KvXgxDMJNH"
      },
      "execution_count": null,
      "outputs": []
    },
    {
      "cell_type": "code",
      "source": [
        "x_y_count = df.groupby(['variable', 'y']).size().unstack(fill_value=0)\n",
        "x_y_count.plot(kind='bar', stacked=True)\n",
        "plt.title('Y by X')\n",
        "plt.xlabel('X')\n",
        "plt.ylabel('Y Count')\n",
        "plt.xticks(rotation=45)\n",
        "plt.legend(title='Y')\n",
        "plt.tight_layout()\n",
        "plt.show()"
      ],
      "metadata": {
        "id": "iwqn6AmSQdKQ"
      },
      "execution_count": null,
      "outputs": []
    },
    {
      "cell_type": "code",
      "source": [
        "df.plot.scatter(x='variable_1',\n",
        "                      y='variable_2',\n",
        "                      c='y',\n",
        "                      colormap='viridis')"
      ],
      "metadata": {
        "id": "pao1USIYNbQq"
      },
      "execution_count": null,
      "outputs": []
    },
    {
      "cell_type": "markdown",
      "source": [
        "# Data Transformation"
      ],
      "metadata": {
        "id": "UZwsNLmXPLtB"
      }
    },
    {
      "cell_type": "code",
      "source": [
        "numerical_data = df.select_dtypes(include=['float64','int64'])\n",
        "ind_num = numerical_data.columns.to_list()\n",
        "object_data=df.select_dtypes(include= [object])\n",
        "ind_obj = object_data.columns.to_list()\n",
        "is_cols_df=[col for col in df.columns if col.startswith(\"is\") and col!=\"is_claim\"]"
      ],
      "metadata": {
        "id": "9MOVq5luTqK1"
      },
      "execution_count": null,
      "outputs": []
    },
    {
      "cell_type": "code",
      "source": [
        "#encode dichotomous\n",
        "yes_no_columns = df.columns[bank_df.isin(['yes', 'no']).any()]\n",
        "df[yes_no_columns] = df[yes_no_columns].replace({'yes': 1, 'no': 0})"
      ],
      "metadata": {
        "id": "ywxEZ0m7bLgW"
      },
      "execution_count": null,
      "outputs": []
    },
    {
      "cell_type": "code",
      "source": [
        "#encode categorical\n",
        "label_encoder = LabelEncoder() #ordinal variables\n",
        "df['variable_encoded'] = label_encoder.fit_transform(df['variable'])\n",
        "\n",
        "#nominal variables\n",
        "cat_df = df[['x1','x2','x3','x4','x5','x6']]\n",
        "dummy_df = pd.get_dummies(cat_df, drop_first=True)\n",
        "df = df.drop(columns=cat_df.columns)\n",
        "df = pd.concat([df, dummy_df], axis=1)"
      ],
      "metadata": {
        "id": "rFaXJ9y9bnpa"
      },
      "execution_count": null,
      "outputs": []
    },
    {
      "cell_type": "code",
      "source": [
        "#normalize\n",
        "scaler = StandardScaler() #data follows normal dist\n",
        "df_standardized = pd.DataFrame(scaler.fit_transform(df), columns=df.columns)\n",
        "\n",
        "#data isn't norm dist\n",
        "scaler = MinMaxScaler()\n",
        "df_scaled = pd.DataFrame(scaler.fit_transform(df), columns=df.columns)"
      ],
      "metadata": {
        "id": "XrZ3rJZncnOW"
      },
      "execution_count": null,
      "outputs": []
    },
    {
      "cell_type": "code",
      "source": [
        "#combining columns\n",
        "df['new_column'] = df[['x1','x2','x3']].sum(axis=1) #where column x1...xn have numerical values, typically, 0 or 1"
      ],
      "metadata": {
        "id": "FBLVsmoHHtNl"
      },
      "execution_count": null,
      "outputs": []
    },
    {
      "cell_type": "code",
      "source": [
        "Q1 = df['variable'].quantile(0.25)\n",
        "Q3 = df[\"variable\"].quantile(0.75)\n",
        "IQR = Q3 - Q1\n",
        "\n",
        "lower_bound = Q1 - 1.5 * IQR\n",
        "upper_bound = Q3 + 1.5 * IQR\n",
        "\n",
        "# Filter out outliers\n",
        "df = df[(df[\"variable\"] >= lower_bound) & (df[\"variable\"] <= upper_bound)]\n",
        "df.shape"
      ],
      "metadata": {
        "id": "dLUyqahjPTFU"
      },
      "execution_count": null,
      "outputs": []
    },
    {
      "cell_type": "code",
      "source": [
        "#denormalise data\n",
        "max= 70\n",
        "min = 18\n",
        "df['dNorm_variable'] = (train['variable'] * (max - min) + min).apply(lambda x: math.ceil(x))\n",
        "train['dNorm_variable'].describe()"
      ],
      "metadata": {
        "id": "hcbs3TykRCwa"
      },
      "execution_count": null,
      "outputs": []
    },
    {
      "cell_type": "markdown",
      "source": [
        "# Feature and Model Selection"
      ],
      "metadata": {
        "id": "H-F9B7SHafYn"
      }
    },
    {
      "cell_type": "code",
      "source": [
        "vif_data = pd.DataFrame()\n",
        "vif_data[\"feature\"] = df.columns\n",
        "vif_data[\"VIF\"] = [variance_inflation_factor(df.values, i) for i in range(len(df.columns))]\n",
        "vif_data['VIF'] = vif_data['VIF'].round()\n",
        "vif_data = vif_data.sort_values(by='VIF', ascending=False)\n",
        "vif_data"
      ],
      "metadata": {
        "id": "KRCvajVUMMHh"
      },
      "execution_count": null,
      "outputs": []
    },
    {
      "cell_type": "code",
      "source": [
        "vif_data['VIF'].plot(kind='hist', bins=20, title='VIF')\n",
        "plt.gca().spines[['top', 'right',]].set_visible(False)"
      ],
      "metadata": {
        "id": "B54X8WaSMdQ7"
      },
      "execution_count": null,
      "outputs": []
    },
    {
      "cell_type": "code",
      "source": [
        "#drop columns with VIF of greater than 5\n",
        "high_vif_columns = vif_data[vif_data['VIF'] >= 5]['feature'].tolist()\n",
        "df = df.drop(columns=high_vif_columns)\n",
        "high_vif_columns"
      ],
      "metadata": {
        "id": "BsakCZT4V67Q"
      },
      "execution_count": null,
      "outputs": []
    },
    {
      "cell_type": "markdown",
      "source": [
        "#### Sampling Data for Training & Testing"
      ],
      "metadata": {
        "id": "76NlReO0mFv4"
      }
    },
    {
      "cell_type": "code",
      "source": [
        "X = df.drop(columns = 'y', axis=1)\n",
        "y = df['y']\n",
        "X_train, X_test, y_train, y_test = train_test_split(X, y,test_size=0.2,stratify=y,random_state=333)"
      ],
      "metadata": {
        "id": "YR4NKt5LapkG"
      },
      "execution_count": null,
      "outputs": []
    },
    {
      "cell_type": "code",
      "source": [
        "y_train.value_counts()"
      ],
      "metadata": {
        "id": "TRJb4LB-mKnR"
      },
      "execution_count": null,
      "outputs": []
    },
    {
      "cell_type": "code",
      "source": [
        "y_test.value_counts()"
      ],
      "metadata": {
        "id": "rhEcqZGnmU1N"
      },
      "execution_count": null,
      "outputs": []
    },
    {
      "cell_type": "code",
      "source": [
        "#apply oversampling with SMOTE()\n",
        "smote =  SMOTE()\n",
        "X_train, y_train =  smote.fit_resample(X_train,y_train)"
      ],
      "metadata": {
        "id": "yM-tVnltmXs8"
      },
      "execution_count": null,
      "outputs": []
    },
    {
      "cell_type": "code",
      "source": [
        "simple_reg = sm.GLM(y_train, sm.add_constant(X_train), family = sm.families.Binomial()).fit()\n",
        "simple_reg.summary()"
      ],
      "metadata": {
        "id": "i-Z-R9iWmeQ_"
      },
      "execution_count": null,
      "outputs": []
    },
    {
      "cell_type": "code",
      "source": [
        "threshold = 0.5\n",
        "\n",
        "probab_test = simple_reg.predict(sm.add_constant(X_test))\n",
        "pred_test = np.where(probab_test >= threshold, 1, 0)\n",
        "perf_metrics(y_test, pred_test)"
      ],
      "metadata": {
        "id": "gc2L4YkInlBU"
      },
      "execution_count": null,
      "outputs": []
    },
    {
      "cell_type": "code",
      "source": [
        "summary_table = lr_results.summary()\n",
        "\n",
        "coefficients = summary_table.tables[1].data[1:]\n",
        "variable_names = [row[0] for row in coefficients]\n",
        "z_scores = [float(row[3]) for row in coefficients]\n",
        "\n",
        "variable_names = [variable_names[i] for i, z_score in enumerate(z_scores) if abs(z_score) < 2]\n",
        "variable_names"
      ],
      "metadata": {
        "id": "RdBD9WOym3iJ"
      },
      "execution_count": null,
      "outputs": []
    },
    {
      "cell_type": "code",
      "source": [
        "#drop insignificant columns from from X_train and X_test\n",
        "X_tn = X_train.drop(columns=variable_names)\n",
        "X_ts = X_test.drop(columns=variable_names)\n",
        "X_tn.shape"
      ],
      "metadata": {
        "id": "KPm9rGVLnWBn"
      },
      "execution_count": null,
      "outputs": []
    },
    {
      "cell_type": "markdown",
      "source": [
        "#### Models"
      ],
      "metadata": {
        "id": "f5rlojwboBrq"
      }
    },
    {
      "cell_type": "code",
      "source": [
        "#Logistic Regression\n",
        "lr = LogisticRegression()\n",
        "lr.fit(X_tn, y_train)\n",
        "y_pred = lr.predict(X_ts)\n",
        "mse_lr = mean_squared_error(y_test, y_pred)\n",
        "print('rmse:',np.sqrt(mse_lr))\n",
        "print(\"Accuracy is: \", accuracy_score(y_test,y_pred)*100)\n",
        "print('r2-Score:',lr.score(X_tn, y_train))\n",
        "print(classification_report(y_test, y_pred))"
      ],
      "metadata": {
        "id": "pNJtBpxloDG9"
      },
      "execution_count": null,
      "outputs": []
    },
    {
      "cell_type": "code",
      "source": [
        "#decision tree to determine which nodes influence house price\n",
        "dt = DecisionTreeClassifier(max_depth=50, random_state=42)\n",
        "dt.fit(X_tn, y_train)\n",
        "y_pred = dt.predict(X_ts)\n",
        "mse_dt = mean_squared_error(y_test, y_pred)\n",
        "print('rmse:',np.sqrt(mse_dt))\n",
        "print(\"Accuracy is: \", accuracy_score(y_test,y_pred)*100)\n",
        "print('r2-Score:',dt.score(X_tn, y_train))\n",
        "print(classification_report(y_test, y_pred))"
      ],
      "metadata": {
        "id": "jBRq4OJzoY1F"
      },
      "execution_count": null,
      "outputs": []
    },
    {
      "cell_type": "code",
      "source": [
        "plt.figure(figsize=(12,12))\n",
        "plot_tree(dt, max_depth=3, fontsize=10, feature_names=X_tn.columns)\n",
        "plt.show()"
      ],
      "metadata": {
        "id": "-xdTOXLgogIz"
      },
      "execution_count": null,
      "outputs": []
    },
    {
      "cell_type": "code",
      "source": [
        "#list important features used by the dt classifier.\n",
        "feature_importances = dt.feature_importances_\n",
        "feature_importance_df = pd.DataFrame({'Feature': X_tn.columns, 'Importance': feature_importances})\n",
        "feature_importance_df = feature_importance_df.sort_values(by='Importance', ascending=False)\n",
        "feature_importance_df"
      ],
      "metadata": {
        "id": "23WZJFPYosyJ"
      },
      "execution_count": null,
      "outputs": []
    },
    {
      "cell_type": "code",
      "source": [
        "# Random Forest\n",
        "rf = RandomForestClassifier(n_estimators=70, random_state=42)\n",
        "rf.fit(X_tn, y_train)\n",
        "y_pred = rf.predict(X_ts)\n",
        "mse_rf = mean_squared_error(y_test, y_pred)\n",
        "print('rmse:',np.sqrt(mse_rf))\n",
        "print(\"Accuracy is \", accuracy_score(y_test,y_pred)*100)\n",
        "print('Score:', rf.score(X_tn, y_train))\n",
        "print(classification_report(y_tests, y_pred))"
      ],
      "metadata": {
        "id": "XfhVI_mGpMjI"
      },
      "execution_count": null,
      "outputs": []
    },
    {
      "cell_type": "code",
      "source": [
        "#support vector machine\n",
        "svm = SVC()\n",
        "svm.fit(X_tn, y_train)\n",
        "y_pred = svm.predict(X_ts)\n",
        "mse_svm = mean_squared_error(y_test, y_pred)\n",
        "print('rmse:', np.sqrt(mse_svm))\n",
        "accuracy = accuracy_score(y_test, y_pred)\n",
        "print(\"Accuracy is: \", accuracy * 100)\n",
        "r2_score = svm.score(X_tn, y_train)\n",
        "print('r2-Score:', r2_score)\n",
        "print(classification_report(y_test, y_pred))"
      ],
      "metadata": {
        "id": "CoamgBzWoHUg"
      },
      "execution_count": null,
      "outputs": []
    },
    {
      "cell_type": "code",
      "source": [
        "#neural network\n",
        "mlp = MLPClassifier(hidden_layer_sizes=(2,3,4),max_iter=50, random_state=42)\n",
        "mlp.fit(X_tn, y_train)\n",
        "y_pred = mlp.predict(X_ts)\n",
        "mse_nn = mean_squared_error(y_test, y_pred)\n",
        "print('rmse:',np.sqrt(mse_nn))\n",
        "print(\"Accuracy is \", accuracy_score(y_test,y_pred)*100)\n",
        "print('Score:', mlp.score(X_tn, y_train))\n",
        "print(classification_report(y_test, y_pred))"
      ],
      "metadata": {
        "id": "wku_nrfOoSny"
      },
      "execution_count": null,
      "outputs": []
    },
    {
      "cell_type": "code",
      "source": [
        "#Gradient Boosting Machine\n",
        "gb = GradientBoostingClassifier(n_estimators=90, random_state=42)\n",
        "gb.fit(X_tn, y_train)\n",
        "y_pred = gb.predict(X_ts)\n",
        "mse_gb = mean_squared_error(y_test, y_pred)\n",
        "print('rmse:',np.sqrt(mse_gb))\n",
        "print(\"Accuracy is: \", accuracy_score(y_test,y_pred)*100)\n",
        "print('r2-Score:',gb.score(X_tn, y_train))\n",
        "print(classification_report(y_test, y_pred))"
      ],
      "metadata": {
        "id": "LMERg3mvpgTN"
      },
      "execution_count": null,
      "outputs": []
    }
  ]
}